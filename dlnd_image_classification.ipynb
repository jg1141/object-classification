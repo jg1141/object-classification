{
 "cells": [
  {
   "cell_type": "markdown",
   "metadata": {
    "collapsed": true,
    "deletable": true,
    "editable": true
   },
   "source": [
    "# Image Classification\n",
    "In this project, you'll classify images from the [CIFAR-10 dataset](https://www.cs.toronto.edu/~kriz/cifar.html).  The dataset consists of airplanes, dogs, cats, and other objects. You'll preprocess the images, then train a convolutional neural network on all the samples. The images need to be normalized and the labels need to be one-hot encoded.  You'll get to apply what you learned and build a convolutional, max pooling, dropout, and fully connected layers.  At the end, you'll get to see your neural network's predictions on the sample images.\n",
    "## Get the Data\n",
    "Run the following cell to download the [CIFAR-10 dataset for python](https://www.cs.toronto.edu/~kriz/cifar-10-python.tar.gz)."
   ]
  },
  {
   "cell_type": "code",
   "execution_count": 1,
   "metadata": {
    "collapsed": false,
    "deletable": true,
    "editable": true
   },
   "outputs": [
    {
     "name": "stdout",
     "output_type": "stream",
     "text": [
      "All files found!\n"
     ]
    }
   ],
   "source": [
    "\"\"\"\n",
    "DON'T MODIFY ANYTHING IN THIS CELL THAT IS BELOW THIS LINE\n",
    "\"\"\"\n",
    "from urllib.request import urlretrieve\n",
    "from os.path import isfile, isdir\n",
    "from tqdm import tqdm\n",
    "import problem_unittests as tests\n",
    "import tarfile\n",
    "\n",
    "cifar10_dataset_folder_path = 'cifar-10-batches-py'\n",
    "\n",
    "class DLProgress(tqdm):\n",
    "    last_block = 0\n",
    "\n",
    "    def hook(self, block_num=1, block_size=1, total_size=None):\n",
    "        self.total = total_size\n",
    "        self.update((block_num - self.last_block) * block_size)\n",
    "        self.last_block = block_num\n",
    "\n",
    "if not isfile('cifar-10-python.tar.gz'):\n",
    "    with DLProgress(unit='B', unit_scale=True, miniters=1, desc='CIFAR-10 Dataset') as pbar:\n",
    "        urlretrieve(\n",
    "            'https://www.cs.toronto.edu/~kriz/cifar-10-python.tar.gz',\n",
    "            'cifar-10-python.tar.gz',\n",
    "            pbar.hook)\n",
    "\n",
    "if not isdir(cifar10_dataset_folder_path):\n",
    "    with tarfile.open('cifar-10-python.tar.gz') as tar:\n",
    "        tar.extractall()\n",
    "        tar.close()\n",
    "\n",
    "\n",
    "tests.test_folder_path(cifar10_dataset_folder_path)"
   ]
  },
  {
   "cell_type": "markdown",
   "metadata": {
    "deletable": true,
    "editable": true
   },
   "source": [
    "## Explore the Data\n",
    "The dataset is broken into batches to prevent your machine from running out of memory.  The CIFAR-10 dataset consists of 5 batches, named `data_batch_1`, `data_batch_2`, etc.. Each batch contains the labels and images that are one of the following:\n",
    "* airplane\n",
    "* automobile\n",
    "* bird\n",
    "* cat\n",
    "* deer\n",
    "* dog\n",
    "* frog\n",
    "* horse\n",
    "* ship\n",
    "* truck\n",
    "\n",
    "Understanding a dataset is part of making predictions on the data.  Play around with the code cell below by changing the `batch_id` and `sample_id`. The `batch_id` is the id for a batch (1-5). The `sample_id` is the id for a image and label pair in the batch.\n",
    "\n",
    "Ask yourself \"What are all possible labels?\", \"What is the range of values for the image data?\", \"Are the labels in order or random?\".  Answers to questions like these will help you preprocess the data and end up with better predictions."
   ]
  },
  {
   "cell_type": "code",
   "execution_count": 2,
   "metadata": {
    "collapsed": false,
    "deletable": true,
    "editable": true
   },
   "outputs": [
    {
     "name": "stdout",
     "output_type": "stream",
     "text": [
      "\n",
      "Stats of batch 1:\n",
      "Samples: 10000\n",
      "Label Counts: {0: 1005, 1: 974, 2: 1032, 3: 1016, 4: 999, 5: 937, 6: 1030, 7: 1001, 8: 1025, 9: 981}\n",
      "First 20 Labels: [6, 9, 9, 4, 1, 1, 2, 7, 8, 3, 4, 7, 7, 2, 9, 9, 9, 3, 2, 6]\n",
      "\n",
      "Example of Image 5:\n",
      "Image - Min Value: 0 Max Value: 252\n",
      "Image - Shape: (32, 32, 3)\n",
      "Label - Label Id: 1 Name: automobile\n"
     ]
    },
    {
     "data": {
      "image/png": "[encoded data removed]",
      "text/plain": [
       "<matplotlib.figure.Figure at 0x24910ee3898>"
      ]
     },
     "metadata": {
      "image/png": {
       "height": 250,
       "width": 253
      }
     },
     "output_type": "display_data"
    }
   ],
   "source": [
    "%matplotlib inline\n",
    "%config InlineBackend.figure_format = 'retina'\n",
    "\n",
    "import helper\n",
    "import numpy as np\n",
    "\n",
    "# Explore the dataset\n",
    "batch_id = 1\n",
    "sample_id = 5\n",
    "helper.display_stats(cifar10_dataset_folder_path, batch_id, sample_id)"
   ]
  },
  {
   "cell_type": "code",
   "execution_count": 3,
   "metadata": {
    "collapsed": false,
    "deletable": true,
    "editable": true
   },
   "outputs": [
    {
     "name": "stdout",
     "output_type": "stream",
     "text": [
      "\n",
      "Stats of batch 2:\n",
      "Samples: 10000\n",
      "Label Counts: {0: 984, 1: 1007, 2: 1010, 3: 995, 4: 1010, 5: 988, 6: 1008, 7: 1026, 8: 987, 9: 985}\n",
      "First 20 Labels: [1, 6, 6, 8, 8, 3, 4, 6, 0, 6, 0, 3, 6, 6, 5, 4, 8, 3, 2, 6]\n",
      "\n",
      "Example of Image 5:\n",
      "Image - Min Value: 3 Max Value: 219\n",
      "Image - Shape: (32, 32, 3)\n",
      "Label - Label Id: 3 Name: cat\n"
     ]
    },
    {
     "data": {
      "image/png": "[encoded data removed]",
      "text/plain": [
       "<matplotlib.figure.Figure at 0x24910ee38d0>"
      ]
     },
     "metadata": {
      "image/png": {
       "height": 250,
       "width": 253
      }
     },
     "output_type": "display_data"
    }
   ],
   "source": [
    "batch_id = 2\n",
    "sample_id = 5\n",
    "helper.display_stats(cifar10_dataset_folder_path, batch_id, sample_id)"
   ]
  },
  {
   "cell_type": "code",
   "execution_count": 4,
   "metadata": {
    "collapsed": false,
    "deletable": true,
    "editable": true
   },
   "outputs": [
    {
     "name": "stdout",
     "output_type": "stream",
     "text": [
      "\n",
      "Stats of batch 3:\n",
      "Samples: 10000\n",
      "Label Counts: {0: 994, 1: 1042, 2: 965, 3: 997, 4: 990, 5: 1029, 6: 978, 7: 1015, 8: 961, 9: 1029}\n",
      "First 20 Labels: [8, 5, 0, 6, 9, 2, 8, 3, 6, 2, 7, 4, 6, 9, 0, 0, 7, 3, 7, 2]\n",
      "\n",
      "Example of Image 5:\n",
      "Image - Min Value: 9 Max Value: 255\n",
      "Image - Shape: (32, 32, 3)\n",
      "Label - Label Id: 2 Name: bird\n"
     ]
    },
    {
     "data": {
      "image/png": "[encoded data removed]",
      "text/plain": [
       "<matplotlib.figure.Figure at 0x2490b7abcf8>"
      ]
     },
     "metadata": {
      "image/png": {
       "height": 250,
       "width": 253
      }
     },
     "output_type": "display_data"
    }
   ],
   "source": [
    "batch_id = 3\n",
    "sample_id = 5\n",
    "helper.display_stats(cifar10_dataset_folder_path, batch_id, sample_id)"
   ]
  },
  {
   "cell_type": "code",
   "execution_count": 5,
   "metadata": {
    "collapsed": false,
    "deletable": true,
    "editable": true
   },
   "outputs": [
    {
     "name": "stdout",
     "output_type": "stream",
     "text": [
      "\n",
      "Stats of batch 4:\n",
      "Samples: 10000\n",
      "Label Counts: {0: 1003, 1: 963, 2: 1041, 3: 976, 4: 1004, 5: 1021, 6: 1004, 7: 981, 8: 1024, 9: 983}\n",
      "First 20 Labels: [0, 6, 0, 2, 7, 2, 1, 2, 4, 1, 5, 6, 6, 3, 1, 3, 5, 5, 8, 1]\n",
      "\n",
      "Example of Image 5:\n",
      "Image - Min Value: 13 Max Value: 169\n",
      "Image - Shape: (32, 32, 3)\n",
      "Label - Label Id: 2 Name: bird\n"
     ]
    },
    {
     "data": {
      "image/png": "[encoded data removed]",
      "text/plain": [
       "<matplotlib.figure.Figure at 0x24910f45ba8>"
      ]
     },
     "metadata": {
      "image/png": {
       "height": 250,
       "width": 253
      }
     },
     "output_type": "display_data"
    }
   ],
   "source": [
    "batch_id = 4\n",
    "sample_id = 5\n",
    "helper.display_stats(cifar10_dataset_folder_path, batch_id, sample_id)"
   ]
  },
  {
   "cell_type": "code",
   "execution_count": 6,
   "metadata": {
    "collapsed": false,
    "deletable": true,
    "editable": true
   },
   "outputs": [
    {
     "name": "stdout",
     "output_type": "stream",
     "text": [
      "\n",
      "Stats of batch 5:\n",
      "Samples: 10000\n",
      "Label Counts: {0: 1014, 1: 1014, 2: 952, 3: 1016, 4: 997, 5: 1025, 6: 980, 7: 977, 8: 1003, 9: 1022}\n",
      "First 20 Labels: [1, 8, 5, 1, 5, 7, 4, 3, 8, 2, 7, 2, 0, 1, 5, 9, 6, 2, 0, 8]\n",
      "\n",
      "Example of Image 5:\n",
      "Image - Min Value: 1 Max Value: 255\n",
      "Image - Shape: (32, 32, 3)\n",
      "Label - Label Id: 7 Name: horse\n"
     ]
    },
    {
     "data": {
      "image/png": "[encoded data removed]",
      "text/plain": [
       "<matplotlib.figure.Figure at 0x24910f450f0>"
      ]
     },
     "metadata": {
      "image/png": {
       "height": 250,
       "width": 253
      }
     },
     "output_type": "display_data"
    }
   ],
   "source": [
    "batch_id = 5\n",
    "sample_id = 5\n",
    "helper.display_stats(cifar10_dataset_folder_path, batch_id, sample_id)"
   ]
  },
  {
   "cell_type": "markdown",
   "metadata": {
    "deletable": true,
    "editable": true
   },
   "source": [
    "## Implement Preprocess Functions\n",
    "### Normalize\n",
    "In the cell below, implement the `normalize` function to take in image data, `x`, and return it as a normalized Numpy array. The values should be in the range of 0 to 1, inclusive.  The return object should be the same shape as `x`."
   ]
  },
  {
   "cell_type": "code",
   "execution_count": 7,
   "metadata": {
    "collapsed": false,
    "deletable": true,
    "editable": true
   },
   "outputs": [
    {
     "name": "stdout",
     "output_type": "stream",
     "text": [
      "Tests Passed\n"
     ]
    }
   ],
   "source": [
    "def normalize(x):\n",
    "    \"\"\"\n",
    "    Normalize a list of sample image data in the range of 0 to 1\n",
    "    : x: List of image data.  The image shape is (32, 32, 3)\n",
    "    : return: Numpy array of normalize data\n",
    "    \"\"\"\n",
    "    # TODO: Implement Function\n",
    "#     a = 0\n",
    "#     b = 1\n",
    "#     grayscale_min = 0\n",
    "#     grayscale_max =255\n",
    "#     return a + ( ( (x - grayscale_min)*(b - a) )/( grayscale_max - grayscale_min ) )\n",
    "    return x / 255 \n",
    "\n",
    "\"\"\"\n",
    "DON'T MODIFY ANYTHING IN THIS CELL THAT IS BELOW THIS LINE\n",
    "\"\"\"\n",
    "tests.test_normalize(normalize)"
   ]
  },
  {
   "cell_type": "markdown",
   "metadata": {
    "deletable": true,
    "editable": true
   },
   "source": [
    "### One-hot encode\n",
    "Just like the previous code cell, you'll be implementing a function for preprocessing.  This time, you'll implement the `one_hot_encode` function. The input, `x`, are a list of labels.  Implement the function to return the list of labels as One-Hot encoded Numpy array.  The possible values for labels are 0 to 9. The one-hot encoding function should return the same encoding for each value between each call to `one_hot_encode`.  Make sure to save the map of encodings outside the function.\n",
    "\n",
    "Hint: Don't reinvent the wheel."
   ]
  },
  {
   "cell_type": "code",
   "execution_count": 8,
   "metadata": {
    "collapsed": false,
    "deletable": true,
    "editable": true
   },
   "outputs": [
    {
     "name": "stdout",
     "output_type": "stream",
     "text": [
      "Tests Passed\n"
     ]
    }
   ],
   "source": [
    "import numpy as np\n",
    "\n",
    "# This map is added since submission 1\n",
    "one_hot_map = {0: [1, 0, 0, 0, 0, 0, 0, 0, 0, 0],\n",
    "               1: [0, 1, 0, 0, 0, 0, 0, 0, 0, 0],\n",
    "               2: [0, 0, 1, 0, 0, 0, 0, 0, 0, 0],\n",
    "               3: [0, 0, 0, 1, 0, 0, 0, 0, 0, 0],\n",
    "               4: [0, 0, 0, 0, 1, 0, 0, 0, 0, 0],\n",
    "               5: [0, 0, 0, 0, 0, 1, 0, 0, 0, 0],\n",
    "               6: [0, 0, 0, 0, 0, 0, 1, 0, 0, 0],\n",
    "               7: [0, 0, 0, 0, 0, 0, 0, 1, 0, 0],\n",
    "               8: [0, 0, 0, 0, 0, 0, 0, 0, 1, 0],\n",
    "               9: [0, 0, 0, 0, 0, 0, 0, 0, 0, 1]}\n",
    "\n",
    "def one_hot_encode(x):\n",
    "    \"\"\"\n",
    "    One hot encode a list of sample labels. Return a one-hot encoded vector for each label.\n",
    "    \n",
    "    Adapted from http://stackoverflow.com/questions/29831489/numpy-1-hot-array\n",
    "    \n",
    "    : x: List of sample Labels\n",
    "    : return: Numpy array of one-hot encoded labels\n",
    "    \"\"\"\n",
    "    # TODO: Implement Function\n",
    "    output = []\n",
    "    for item in x:\n",
    "        output.append(one_hot_map[item])\n",
    "    return np.array(output)\n",
    "\n",
    "\n",
    "\"\"\"\n",
    "DON'T MODIFY ANYTHING IN THIS CELL THAT IS BELOW THIS LINE\n",
    "\"\"\"\n",
    "tests.test_one_hot_encode(one_hot_encode)"
   ]
  },
  {
   "cell_type": "code",
   "execution_count": 9,
   "metadata": {
    "collapsed": false,
    "deletable": true,
    "editable": true
   },
   "outputs": [
    {
     "data": {
      "text/plain": [
       "array([[1, 0, 0, 0, 0, 0, 0, 0, 0, 0],\n",
       "       [0, 1, 0, 0, 0, 0, 0, 0, 0, 0],\n",
       "       [0, 0, 0, 0, 0, 0, 0, 0, 1, 0],\n",
       "       [0, 0, 0, 0, 0, 1, 0, 0, 0, 0],\n",
       "       [0, 1, 0, 0, 0, 0, 0, 0, 0, 0],\n",
       "       [0, 0, 0, 0, 0, 1, 0, 0, 0, 0],\n",
       "       [0, 0, 0, 0, 0, 0, 0, 1, 0, 0],\n",
       "       [0, 0, 0, 0, 1, 0, 0, 0, 0, 0],\n",
       "       [0, 0, 0, 0, 0, 0, 0, 0, 0, 1]])"
      ]
     },
     "execution_count": 9,
     "metadata": {},
     "output_type": "execute_result"
    }
   ],
   "source": [
    "one_hot_encode([0, 1, 8, 5, 1, 5, 7, 4, 9])"
   ]
  },
  {
   "cell_type": "markdown",
   "metadata": {
    "deletable": true,
    "editable": true
   },
   "source": [
    "### Randomize Data\n",
    "As you saw from exploring the data above, the order of the samples are randomized.  It doesn't hurt to randomize it again, but you don't need to for this dataset."
   ]
  },
  {
   "cell_type": "markdown",
   "metadata": {
    "deletable": true,
    "editable": true
   },
   "source": [
    "## Preprocess all the data and save it\n",
    "Running the code cell below will preprocess all the CIFAR-10 data and save it to file. The code below also uses 10% of the training data for validation."
   ]
  },
  {
   "cell_type": "code",
   "execution_count": 10,
   "metadata": {
    "collapsed": false,
    "deletable": true,
    "editable": true
   },
   "outputs": [],
   "source": [
    "\"\"\"\n",
    "DON'T MODIFY ANYTHING IN THIS CELL\n",
    "\"\"\"\n",
    "# Preprocess Training, Validation, and Testing Data\n",
    "helper.preprocess_and_save_data(cifar10_dataset_folder_path, normalize, one_hot_encode)"
   ]
  },
  {
   "cell_type": "markdown",
   "metadata": {
    "deletable": true,
    "editable": true
   },
   "source": [
    "# Check Point\n",
    "This is your first checkpoint.  If you ever decide to come back to this notebook or have to restart the notebook, you can start from here.  The preprocessed data has been saved to disk."
   ]
  },
  {
   "cell_type": "code",
   "execution_count": 11,
   "metadata": {
    "collapsed": true,
    "deletable": true,
    "editable": true
   },
   "outputs": [],
   "source": [
    "\"\"\"\n",
    "DON'T MODIFY ANYTHING IN THIS CELL\n",
    "\"\"\"\n",
    "import pickle\n",
    "import problem_unittests as tests\n",
    "import helper\n",
    "\n",
    "# Load the Preprocessed Validation data\n",
    "valid_features, valid_labels = pickle.load(open('preprocess_validation.p', mode='rb'))"
   ]
  },
  {
   "cell_type": "markdown",
   "metadata": {
    "deletable": true,
    "editable": true
   },
   "source": [
    "## Build the network\n",
    "For the neural network, you'll build each layer into a function.  Most of the code you've seen has been outside of functions. To test your code more thoroughly, we require that you put each layer in a function.  This allows us to give you better feedback and test for simple mistakes using our unittests before you submit your project.\n",
    "\n",
    "If you're finding it hard to dedicate enough time for this course a week, we've provided a small shortcut to this part of the project. In the next couple of problems, you'll have the option to use [TensorFlow Layers](https://www.tensorflow.org/api_docs/python/tf/layers) or [TensorFlow Layers (contrib)](https://www.tensorflow.org/api_guides/python/contrib.layers) to build each layer, except \"Convolutional & Max Pooling\" layer.  TF Layers is similar to Keras's and TFLearn's abstraction to layers, so it's easy to pickup.\n",
    "\n",
    "If you would like to get the most of this course, try to solve all the problems without TF Layers.  Let's begin!\n",
    "### Input\n",
    "The neural network needs to read the image data, one-hot encoded labels, and dropout keep probability. Implement the following functions\n",
    "* Implement `neural_net_image_input`\n",
    " * Return a [TF Placeholder](https://www.tensorflow.org/api_docs/python/tf/placeholder)\n",
    " * Set the shape using `image_shape` with batch size set to `None`.\n",
    " * Name the TensorFlow placeholder \"x\" using the TensorFlow `name` parameter in the [TF Placeholder](https://www.tensorflow.org/api_docs/python/tf/placeholder).\n",
    "* Implement `neural_net_label_input`\n",
    " * Return a [TF Placeholder](https://www.tensorflow.org/api_docs/python/tf/placeholder)\n",
    " * Set the shape using `n_classes` with batch size set to `None`.\n",
    " * Name the TensorFlow placeholder \"y\" using the TensorFlow `name` parameter in the [TF Placeholder](https://www.tensorflow.org/api_docs/python/tf/placeholder).\n",
    "* Implement `neural_net_keep_prob_input`\n",
    " * Return a [TF Placeholder](https://www.tensorflow.org/api_docs/python/tf/placeholder) for dropout keep probability.\n",
    " * Name the TensorFlow placeholder \"keep_prob\" using the TensorFlow `name` parameter in the [TF Placeholder](https://www.tensorflow.org/api_docs/python/tf/placeholder).\n",
    "\n",
    "These names will be used at the end of the project to load your saved model.\n",
    "\n",
    "Note: `None` for shapes in TensorFlow allow for a dynamic size."
   ]
  },
  {
   "cell_type": "code",
   "execution_count": 12,
   "metadata": {
    "collapsed": false,
    "deletable": true,
    "editable": true
   },
   "outputs": [
    {
     "name": "stdout",
     "output_type": "stream",
     "text": [
      "Image Input Tests Passed.\n",
      "Label Input Tests Passed.\n",
      "Keep Prob Tests Passed.\n"
     ]
    }
   ],
   "source": [
    "import tensorflow as tf\n",
    "\n",
    "def neural_net_image_input(image_shape):\n",
    "    \"\"\"\n",
    "    Return a Tensor for a bach of image input\n",
    "    : image_shape: Shape of the images\n",
    "    : return: Tensor for image input.\n",
    "    \"\"\"\n",
    "    # TODO: Implement Function\n",
    "    dimensions = [None,] # First parameter is None for dynamic values\n",
    "    for dimension in image_shape:\n",
    "        dimensions.append(dimension)\n",
    "    x = tf.placeholder(tf.float32, dimensions, name='x')\n",
    "    return x\n",
    "\n",
    "def neural_net_label_input(n_classes):\n",
    "    \"\"\"\n",
    "    Return a Tensor for a batch of label input\n",
    "    : n_classes: Number of classes\n",
    "    : return: Tensor for label input.\n",
    "    \"\"\"\n",
    "    # TODO: Implement Function\n",
    "    y = tf.placeholder(tf.float32, [None, n_classes], name=\"y\")\n",
    "    return y\n",
    "\n",
    "\n",
    "def neural_net_keep_prob_input():\n",
    "    \"\"\"\n",
    "    Return a Tensor for keep probability\n",
    "    : return: Tensor for keep probability.\n",
    "    \"\"\"\n",
    "    # TODO: Implement Function\n",
    "    return tf.placeholder(tf.float32, name=\"keep_prob\")\n",
    "\n",
    "\n",
    "\"\"\"\n",
    "DON'T MODIFY ANYTHING IN THIS CELL THAT IS BELOW THIS LINE\n",
    "\"\"\"\n",
    "tf.reset_default_graph()\n",
    "tests.test_nn_image_inputs(neural_net_image_input)\n",
    "tests.test_nn_label_inputs(neural_net_label_input)\n",
    "tests.test_nn_keep_prob_inputs(neural_net_keep_prob_input)"
   ]
  },
  {
   "cell_type": "markdown",
   "metadata": {
    "deletable": true,
    "editable": true
   },
   "source": [
    "### Convolution and Max Pooling Layer\n",
    "Convolution layers have a lot of success with images. For this code cell, you should implement the function `conv2d_maxpool` to apply convolution then max pooling:\n",
    "* Create the weight and bias using `conv_ksize`, `conv_num_outputs` and the shape of `x_tensor`.\n",
    "* Apply a convolution to `x_tensor` using weight and `conv_strides`.\n",
    " * We recommend you use same padding, but you're welcome to use any padding.\n",
    "* Add bias\n",
    "* Add a nonlinear activation to the convolution.\n",
    "* Apply Max Pooling using `pool_ksize` and `pool_strides`.\n",
    " * We recommend you use same padding, but you're welcome to use any padding.\n",
    "\n",
    "Note: You **can't** use [TensorFlow Layers](https://www.tensorflow.org/api_docs/python/tf/layers) or [TensorFlow Layers (contrib)](https://www.tensorflow.org/api_guides/python/contrib.layers) for this layer.  You're free to use any TensorFlow package for all the other layers."
   ]
  },
  {
   "cell_type": "code",
   "execution_count": 13,
   "metadata": {
    "collapsed": false,
    "deletable": true,
    "editable": true
   },
   "outputs": [
    {
     "name": "stdout",
     "output_type": "stream",
     "text": [
      "Tests Passed\n"
     ]
    }
   ],
   "source": [
    "def conv2d_maxpool(x_tensor, conv_num_outputs, conv_ksize, conv_strides, pool_ksize, pool_strides):\n",
    "    \"\"\"\n",
    "    Apply convolution then max pooling to x_tensor\n",
    "    :param x_tensor: TensorFlow Tensor\n",
    "    :param conv_num_outputs: Number of outputs for the convolutional layer\n",
    "    :param conv_strides: Stride 2-D Tuple for convolution\n",
    "    :param pool_ksize: kernal size 2-D Tuple for pool\n",
    "    :param pool_strides: Stride 2-D Tuple for pool\n",
    "    : return: A tensor that represents convolution and max pooling of x_tensor\n",
    "    \"\"\"\n",
    "    # TODO: Implement Function\n",
    "    x = 0\n",
    "    y = 1\n",
    "    z = 3\n",
    "    weight = tf.Variable(tf.truncated_normal([conv_ksize[x],\n",
    "                                              conv_ksize[y],\n",
    "                                              int(x_tensor.shape[z]),\n",
    "                                              conv_num_outputs],\n",
    "                                             stddev=0.05))\n",
    "    \n",
    "    bias = tf.Variable(tf.constant(0.05, shape=[conv_num_outputs]))\n",
    "    bias.set_shape([conv_num_outputs])  # This is a change from submission 1 - per https://www.tensorflow.org/versions/r0.11/api_docs/python/framework/core_graph_data_structures#Tensor.set_shape\n",
    "\n",
    "    x_tensor = tf.nn.conv2d(x_tensor, \n",
    "                            weight, \n",
    "                            strides=[1, \n",
    "                                     conv_strides[x], \n",
    "                                     conv_strides[y],\n",
    "                                     1],\n",
    "                            padding='SAME')\n",
    "    \n",
    "    x_tensor = tf.nn.bias_add(x_tensor, bias)\n",
    "    \n",
    "    x_tensor = tf.nn.relu(x_tensor)\n",
    "    \n",
    "    x_tensor = tf.nn.max_pool(x_tensor, \n",
    "                              ksize=[1, \n",
    "                                     pool_ksize[x], \n",
    "                                     pool_ksize[y], \n",
    "                                     1], \n",
    "                              strides=[1, \n",
    "                                       pool_strides[x], \n",
    "                                       pool_strides[y], \n",
    "                                       1], \n",
    "                              padding='SAME')\n",
    "    return x_tensor\n",
    "\n",
    "\n",
    "\"\"\"\n",
    "DON'T MODIFY ANYTHING IN THIS CELL THAT IS BELOW THIS LINE\n",
    "\"\"\"\n",
    "tests.test_con_pool(conv2d_maxpool)"
   ]
  },
  {
   "cell_type": "markdown",
   "metadata": {
    "deletable": true,
    "editable": true
   },
   "source": [
    "### Flatten Layer\n",
    "Implement the `flatten` function to change the dimension of `x_tensor` from a 4-D tensor to a 2-D tensor.  The output should be the shape (*Batch Size*, *Flattened Image Size*). You can use [TensorFlow Layers](https://www.tensorflow.org/api_docs/python/tf/layers) or [TensorFlow Layers (contrib)](https://www.tensorflow.org/api_guides/python/contrib.layers) for this layer."
   ]
  },
  {
   "cell_type": "code",
   "execution_count": 14,
   "metadata": {
    "collapsed": false,
    "deletable": true,
    "editable": true
   },
   "outputs": [
    {
     "name": "stdout",
     "output_type": "stream",
     "text": [
      "Tests Passed\n"
     ]
    }
   ],
   "source": [
    "def flatten(x_tensor):\n",
    "    \"\"\"\n",
    "    Flatten x_tensor to (Batch Size, Flattened Image Size)\n",
    "    : x_tensor: A tensor of size (Batch Size, ...), where ... are the image dimensions.\n",
    "    : return: A tensor of size (Batch Size, Flattened Image Size).\n",
    "    \"\"\"\n",
    "    # TODO: Implement Function\n",
    "    return tf.reshape(x_tensor, [-1, int(x_tensor.shape[1] * x_tensor.shape[2] * x_tensor.shape[3])])\n",
    "\n",
    "\"\"\"\n",
    "DON'T MODIFY ANYTHING IN THIS CELL THAT IS BELOW THIS LINE\n",
    "\"\"\"\n",
    "tests.test_flatten(flatten)"
   ]
  },
  {
   "cell_type": "markdown",
   "metadata": {
    "deletable": true,
    "editable": true
   },
   "source": [
    "### Fully-Connected Layer\n",
    "Implement the `fully_conn` function to apply a fully connected layer to `x_tensor` with the shape (*Batch Size*, *num_outputs*). You can use [TensorFlow Layers](https://www.tensorflow.org/api_docs/python/tf/layers) or [TensorFlow Layers (contrib)](https://www.tensorflow.org/api_guides/python/contrib.layers) for this layer."
   ]
  },
  {
   "cell_type": "code",
   "execution_count": 15,
   "metadata": {
    "collapsed": false,
    "deletable": true,
    "editable": true
   },
   "outputs": [
    {
     "name": "stdout",
     "output_type": "stream",
     "text": [
      "Tests Passed\n"
     ]
    }
   ],
   "source": [
    "def fully_conn(x_tensor, num_outputs):\n",
    "    \"\"\"\n",
    "    Apply a fully connected layer to x_tensor using weight and bias\n",
    "    : x_tensor: A 2-D tensor where the first dimension is batch size.\n",
    "    : num_outputs: The number of output that the new tensor should be.\n",
    "    : return: A 2-D tensor where the second dimension is num_outputs.\n",
    "    \"\"\"\n",
    "    # TODO: Implement Function\n",
    "    weights = tf.Variable(tf.truncated_normal([int(x_tensor.shape[1]),\n",
    "                                               num_outputs],\n",
    "                                              stddev=0.05))\n",
    "    \n",
    "    bias = tf.Variable(tf.constant(0.05, shape=[num_outputs]))\n",
    "\n",
    "    fc_layer = tf.add(tf.matmul(x_tensor, weights), bias)\n",
    "    \n",
    "    fc_layer = tf.nn.relu(fc_layer)\n",
    "    \n",
    "    return fc_layer\n",
    "\n",
    "\n",
    "\"\"\"\n",
    "DON'T MODIFY ANYTHING IN THIS CELL THAT IS BELOW THIS LINE\n",
    "\"\"\"\n",
    "tests.test_fully_conn(fully_conn)"
   ]
  },
  {
   "cell_type": "markdown",
   "metadata": {
    "deletable": true,
    "editable": true
   },
   "source": [
    "### Output Layer\n",
    "Implement the `output` function to apply a fully connected layer to `x_tensor` with the shape (*Batch Size*, *num_outputs*). You can use [TensorFlow Layers](https://www.tensorflow.org/api_docs/python/tf/layers) or [TensorFlow Layers (contrib)](https://www.tensorflow.org/api_guides/python/contrib.layers) for this layer.\n",
    "\n",
    "Note: Activation, softmax, or cross entropy shouldn't be applied to this."
   ]
  },
  {
   "cell_type": "code",
   "execution_count": 16,
   "metadata": {
    "collapsed": false,
    "deletable": true,
    "editable": true
   },
   "outputs": [
    {
     "name": "stdout",
     "output_type": "stream",
     "text": [
      "Tests Passed\n"
     ]
    }
   ],
   "source": [
    "def output(x_tensor, num_outputs):\n",
    "    \"\"\"\n",
    "    Apply a output layer to x_tensor using weight and bias\n",
    "    : x_tensor: A 2-D tensor where the first dimension is batch size.\n",
    "    : num_outputs: The number of output that the new tensor should be.\n",
    "    : return: A 2-D tensor where the second dimension is num_outputs.\n",
    "    \"\"\"\n",
    "    # TODO: Implement Function\n",
    "    weights = tf.Variable(tf.truncated_normal([int(x_tensor.shape[1]), \n",
    "                                               num_outputs],\n",
    "                                              stddev=0.05))\n",
    "    \n",
    "    bias = tf.Variable(tf.constant(0.05, shape=[num_outputs]))\n",
    "\n",
    "    output_layer = tf.add(tf.matmul(x_tensor, weights), bias)\n",
    "    \n",
    "    output_layer = tf.nn.softmax(output_layer)\n",
    "    \n",
    "    return output_layer\n",
    "\n",
    "\n",
    "\"\"\"\n",
    "DON'T MODIFY ANYTHING IN THIS CELL THAT IS BELOW THIS LINE\n",
    "\"\"\"\n",
    "tests.test_output(output)"
   ]
  },
  {
   "cell_type": "markdown",
   "metadata": {
    "deletable": true,
    "editable": true
   },
   "source": [
    "### Create Convolutional Model\n",
    "Implement the function `conv_net` to create a convolutional neural network model. The function takes in a batch of images, `x`, and outputs logits.  Use the layers you created above to create this model:\n",
    "\n",
    "* Apply 1, 2, or 3 Convolution and Max Pool layers\n",
    "* Apply a Flatten Layer\n",
    "* Apply 1, 2, or 3 Fully Connected Layers\n",
    "* Apply an Output Layer\n",
    "* Return the output\n",
    "* Apply [TensorFlow's Dropout](https://www.tensorflow.org/api_docs/python/tf/nn/dropout) to one or more layers in the model using `keep_prob`. "
   ]
  },
  {
   "cell_type": "code",
   "execution_count": 17,
   "metadata": {
    "collapsed": false,
    "deletable": true,
    "editable": true
   },
   "outputs": [
    {
     "name": "stdout",
     "output_type": "stream",
     "text": [
      "Neural Network Built!\n"
     ]
    }
   ],
   "source": [
    "def conv_net(x, keep_prob):\n",
    "    \"\"\"\n",
    "    Create a convolutional neural network model\n",
    "    : x: Placeholder tensor that holds image data.\n",
    "    : keep_prob: Placeholder tensor that hold dropout keep probability.\n",
    "    : return: Tensor that represents logits\n",
    "    \"\"\"\n",
    "    # TODO: Apply 1, 2, or 3 Convolution and Max Pool layers\n",
    "    #    Play around with different number of outputs, kernel size and stride\n",
    "    # Function Definition from Above:\n",
    "    #    conv2d_maxpool(x_tensor, conv_num_outputs, conv_ksize, conv_strides, pool_ksize, pool_strides)\n",
    "    conv1 = conv2d_maxpool(x_tensor=x, \n",
    "                           conv_num_outputs=40, \n",
    "                           conv_ksize=(5, 5), \n",
    "                           conv_strides=(1, 1), \n",
    "                           pool_ksize=(2, 2), \n",
    "                           pool_strides=(1, 1))\n",
    "    conv2 = conv2d_maxpool(x_tensor=conv1,\n",
    "                           conv_num_outputs=30,\n",
    "                           conv_ksize=(4, 4),\n",
    "                           conv_strides=(1, 1),\n",
    "                           pool_ksize=(2, 2),\n",
    "                           pool_strides=(1, 1))\n",
    "        \n",
    "\n",
    "    # TODO: Apply a Flatten Layer\n",
    "    # Function Definition from Above:\n",
    "    #   flatten(x_tensor)\n",
    "    flat_layer = flatten(conv2)\n",
    "\n",
    "    # TODO: Apply 1, 2, or 3 Fully Connected Layers\n",
    "    #    Play around with different number of outputs\n",
    "    # Function Definition from Above:\n",
    "    #   fully_conn(x_tensor, num_outputs)\n",
    "    fc1 = fully_conn(flat_layer, 15)\n",
    "    fc1 = tf.nn.dropout(fc1, keep_prob)\n",
    "    \n",
    "    # TODO: Apply an Output Layer\n",
    "    #    Set this to the number of classes\n",
    "    # Function Definition from Above:\n",
    "    output_layer = output(fc1, 10)\n",
    "    \n",
    "    \n",
    "    # TODO: return output\n",
    "    return output_layer\n",
    "\n",
    "\n",
    "\"\"\"\n",
    "DON'T MODIFY ANYTHING IN THIS CELL THAT IS BELOW THIS LINE\n",
    "\"\"\"\n",
    "\n",
    "##############################\n",
    "## Build the Neural Network ##\n",
    "##############################\n",
    "\n",
    "# Remove previous weights, bias, inputs, etc..\n",
    "tf.reset_default_graph()\n",
    "\n",
    "# Inputs\n",
    "x = neural_net_image_input((32, 32, 3))\n",
    "y = neural_net_label_input(10)\n",
    "keep_prob = neural_net_keep_prob_input()\n",
    "\n",
    "# Model\n",
    "logits = conv_net(x, keep_prob)\n",
    "\n",
    "# Name logits Tensor, so that is can be loaded from disk after training\n",
    "logits = tf.identity(logits, name='logits')\n",
    "\n",
    "# Loss and Optimizer\n",
    "cost = tf.reduce_mean(tf.nn.softmax_cross_entropy_with_logits(logits=logits, labels=y))\n",
    "optimizer = tf.train.AdamOptimizer().minimize(cost)\n",
    "\n",
    "# Accuracy\n",
    "correct_pred = tf.equal(tf.argmax(logits, 1), tf.argmax(y, 1))\n",
    "accuracy = tf.reduce_mean(tf.cast(correct_pred, tf.float32), name='accuracy')\n",
    "\n",
    "tests.test_conv_net(conv_net)"
   ]
  },
  {
   "cell_type": "markdown",
   "metadata": {
    "deletable": true,
    "editable": true
   },
   "source": [
    "## Train the Neural Network\n",
    "### Single Optimization\n",
    "Implement the function `train_neural_network` to do a single optimization.  The optimization should use `optimizer` to optimize in `session` with a `feed_dict` of the following:\n",
    "* `x` for image input\n",
    "* `y` for labels\n",
    "* `keep_prob` for keep probability for dropout\n",
    "\n",
    "This function will be called for each batch, so `tf.global_variables_initializer()` has already been called.\n",
    "\n",
    "Note: Nothing needs to be returned. This function is only optimizing the neural network."
   ]
  },
  {
   "cell_type": "code",
   "execution_count": 18,
   "metadata": {
    "collapsed": false,
    "deletable": true,
    "editable": true
   },
   "outputs": [
    {
     "name": "stdout",
     "output_type": "stream",
     "text": [
      "Tests Passed\n"
     ]
    }
   ],
   "source": [
    "def train_neural_network(session, optimizer, keep_probability, feature_batch, label_batch):\n",
    "    \"\"\"\n",
    "    Optimize the session on a batch of images and labels\n",
    "    : session: Current TensorFlow session\n",
    "    : optimizer: TensorFlow optimizer function\n",
    "    : keep_probability: keep probability\n",
    "    : feature_batch: Batch of Numpy image data\n",
    "    : label_batch: Batch of Numpy label data\n",
    "    \"\"\"\n",
    "    # TODO: Implement Function\n",
    "    session.run(optimizer,\n",
    "                feed_dict={x: feature_batch,\n",
    "                           y: label_batch,\n",
    "                           keep_prob: keep_probability})\n",
    "\n",
    "\"\"\"\n",
    "DON'T MODIFY ANYTHING IN THIS CELL THAT IS BELOW THIS LINE\n",
    "\"\"\"\n",
    "tests.test_train_nn(train_neural_network)"
   ]
  },
  {
   "cell_type": "markdown",
   "metadata": {
    "deletable": true,
    "editable": true
   },
   "source": [
    "### Show Stats\n",
    "Implement the function `print_stats` to print loss and validation accuracy.  Use the global variables `valid_features` and `valid_labels` to calculate validation accuracy.  Use a keep probability of `1.0` to calculate the loss and validation accuracy."
   ]
  },
  {
   "cell_type": "code",
   "execution_count": 19,
   "metadata": {
    "collapsed": false,
    "deletable": true,
    "editable": true
   },
   "outputs": [],
   "source": [
    "def print_stats(session, feature_batch, label_batch, cost, accuracy):\n",
    "    \"\"\"\n",
    "    Print information about loss and validation accuracy\n",
    "    : session: Current TensorFlow session\n",
    "    : feature_batch: Batch of Numpy image data\n",
    "    : label_batch: Batch of Numpy label data\n",
    "    : cost: TensorFlow cost function\n",
    "    : accuracy: TensorFlow accuracy function\n",
    "    \"\"\"\n",
    "    # TODO: Implement Function\n",
    "    loss = session.run(cost,\n",
    "                       feed_dict={x: feature_batch,\n",
    "                                  y: label_batch,\n",
    "                                  keep_prob: 1.0})\n",
    "    \n",
    "    valid_acc = session.run(accuracy, \n",
    "                            feed_dict={x: valid_features,\n",
    "                                       y: valid_labels,\n",
    "                                       keep_prob: 1.0})\n",
    "    \n",
    "    print('Loss: {:>15.4f} Validation Accuracy: {:.4f}'.format(loss, valid_acc))"
   ]
  },
  {
   "cell_type": "markdown",
   "metadata": {
    "deletable": true,
    "editable": true
   },
   "source": [
    "### Hyperparameters\n",
    "Tune the following parameters:\n",
    "* Set `epochs` to the number of iterations until the network stops learning or start overfitting\n",
    "* Set `batch_size` to the highest number that your machine has memory for.  Most people set them to common sizes of memory:\n",
    " * 64\n",
    " * 128\n",
    " * 256\n",
    " * ...\n",
    "* Set `keep_probability` to the probability of keeping a node using dropout"
   ]
  },
  {
   "cell_type": "code",
   "execution_count": 20,
   "metadata": {
    "collapsed": true,
    "deletable": true,
    "editable": true
   },
   "outputs": [],
   "source": [
    "# TODO: Tune Parameters\n",
    "epochs = 40\n",
    "batch_size = 128\n",
    "keep_probability = 0.7"
   ]
  },
  {
   "cell_type": "markdown",
   "metadata": {
    "deletable": true,
    "editable": true
   },
   "source": [
    "### Train on a Single CIFAR-10 Batch\n",
    "Instead of training the neural network on all the CIFAR-10 batches of data, let's use a single batch. This should save time while you iterate on the model to get a better accuracy.  Once the final validation accuracy is 50% or greater, run the model on all the data in the next section."
   ]
  },
  {
   "cell_type": "code",
   "execution_count": 21,
   "metadata": {
    "collapsed": false,
    "deletable": true,
    "editable": true
   },
   "outputs": [
    {
     "name": "stdout",
     "output_type": "stream",
     "text": [
      "Checking the Training on a Single Batch...\n",
      "Epoch  1, CIFAR-10 Batch 1:  Loss:          2.2603 Validation Accuracy: 0.1874\n",
      "Epoch  2, CIFAR-10 Batch 1:  Loss:          2.2098 Validation Accuracy: 0.2610\n",
      "Epoch  3, CIFAR-10 Batch 1:  Loss:          2.1825 Validation Accuracy: 0.2868\n",
      "Epoch  4, CIFAR-10 Batch 1:  Loss:          2.1789 Validation Accuracy: 0.3126\n",
      "Epoch  5, CIFAR-10 Batch 1:  Loss:          2.1296 Validation Accuracy: 0.2706\n",
      "Epoch  6, CIFAR-10 Batch 1:  Loss:          2.1108 Validation Accuracy: 0.3656\n",
      "Epoch  7, CIFAR-10 Batch 1:  Loss:          2.0646 Validation Accuracy: 0.3314\n",
      "Epoch  8, CIFAR-10 Batch 1:  Loss:          2.0584 Validation Accuracy: 0.3738\n",
      "Epoch  9, CIFAR-10 Batch 1:  Loss:          2.1100 Validation Accuracy: 0.3876\n",
      "Epoch 10, CIFAR-10 Batch 1:  Loss:          2.0507 Validation Accuracy: 0.3906\n",
      "Epoch 11, CIFAR-10 Batch 1:  Loss:          2.0651 Validation Accuracy: 0.3726\n",
      "Epoch 12, CIFAR-10 Batch 1:  Loss:          2.0387 Validation Accuracy: 0.3928\n",
      "Epoch 13, CIFAR-10 Batch 1:  Loss:          2.0337 Validation Accuracy: 0.4056\n",
      "Epoch 14, CIFAR-10 Batch 1:  Loss:          2.0841 Validation Accuracy: 0.3878\n",
      "Epoch 15, CIFAR-10 Batch 1:  Loss:          1.9958 Validation Accuracy: 0.4018\n",
      "Epoch 16, CIFAR-10 Batch 1:  Loss:          2.0061 Validation Accuracy: 0.4114\n",
      "Epoch 17, CIFAR-10 Batch 1:  Loss:          1.9674 Validation Accuracy: 0.4230\n",
      "Epoch 18, CIFAR-10 Batch 1:  Loss:          1.9657 Validation Accuracy: 0.4210\n",
      "Epoch 19, CIFAR-10 Batch 1:  Loss:          1.9497 Validation Accuracy: 0.4204\n",
      "Epoch 20, CIFAR-10 Batch 1:  Loss:          1.9224 Validation Accuracy: 0.4422\n",
      "Epoch 21, CIFAR-10 Batch 1:  Loss:          1.9511 Validation Accuracy: 0.4406\n",
      "Epoch 22, CIFAR-10 Batch 1:  Loss:          1.9455 Validation Accuracy: 0.4348\n",
      "Epoch 23, CIFAR-10 Batch 1:  Loss:          1.9362 Validation Accuracy: 0.4288\n",
      "Epoch 24, CIFAR-10 Batch 1:  Loss:          1.9343 Validation Accuracy: 0.4454\n",
      "Epoch 25, CIFAR-10 Batch 1:  Loss:          1.9627 Validation Accuracy: 0.4342\n",
      "Epoch 26, CIFAR-10 Batch 1:  Loss:          1.9368 Validation Accuracy: 0.4518\n",
      "Epoch 27, CIFAR-10 Batch 1:  Loss:          1.9713 Validation Accuracy: 0.4430\n",
      "Epoch 28, CIFAR-10 Batch 1:  Loss:          1.9669 Validation Accuracy: 0.4574\n",
      "Epoch 29, CIFAR-10 Batch 1:  Loss:          1.9241 Validation Accuracy: 0.4652\n",
      "Epoch 30, CIFAR-10 Batch 1:  Loss:          1.8825 Validation Accuracy: 0.4562\n",
      "Epoch 31, CIFAR-10 Batch 1:  Loss:          1.9522 Validation Accuracy: 0.4284\n",
      "Epoch 32, CIFAR-10 Batch 1:  Loss:          1.8779 Validation Accuracy: 0.4546\n",
      "Epoch 33, CIFAR-10 Batch 1:  Loss:          1.8788 Validation Accuracy: 0.4558\n",
      "Epoch 34, CIFAR-10 Batch 1:  Loss:          1.9078 Validation Accuracy: 0.4268\n",
      "Epoch 35, CIFAR-10 Batch 1:  Loss:          1.8676 Validation Accuracy: 0.4502\n",
      "Epoch 36, CIFAR-10 Batch 1:  Loss:          1.8974 Validation Accuracy: 0.4460\n",
      "Epoch 37, CIFAR-10 Batch 1:  Loss:          1.8816 Validation Accuracy: 0.4254\n",
      "Epoch 38, CIFAR-10 Batch 1:  Loss:          1.8671 Validation Accuracy: 0.4464\n",
      "Epoch 39, CIFAR-10 Batch 1:  Loss:          1.9398 Validation Accuracy: 0.4376\n",
      "Epoch 40, CIFAR-10 Batch 1:  Loss:          1.8765 Validation Accuracy: 0.4470\n"
     ]
    }
   ],
   "source": [
    "\"\"\"\n",
    "DON'T MODIFY ANYTHING IN THIS CELL\n",
    "\"\"\"\n",
    "print('Checking the Training on a Single Batch...')\n",
    "with tf.Session() as sess:\n",
    "    # Initializing the variables\n",
    "    sess.run(tf.global_variables_initializer())\n",
    "    \n",
    "    # Training cycle\n",
    "    for epoch in range(epochs):\n",
    "        batch_i = 1\n",
    "        for batch_features, batch_labels in helper.load_preprocess_training_batch(batch_i, batch_size):\n",
    "            train_neural_network(sess, optimizer, keep_probability, batch_features, batch_labels)\n",
    "        print('Epoch {:>2}, CIFAR-10 Batch {}:  '.format(epoch + 1, batch_i), end='')\n",
    "        print_stats(sess, batch_features, batch_labels, cost, accuracy)"
   ]
  },
  {
   "cell_type": "markdown",
   "metadata": {
    "deletable": true,
    "editable": true
   },
   "source": [
    "### Fully Train the Model\n",
    "Now that you got a good accuracy with a single CIFAR-10 batch, try it with all five batches."
   ]
  },
  {
   "cell_type": "code",
   "execution_count": 22,
   "metadata": {
    "collapsed": false,
    "deletable": true,
    "editable": true
   },
   "outputs": [
    {
     "name": "stdout",
     "output_type": "stream",
     "text": [
      "Training...\n",
      "Epoch  1, CIFAR-10 Batch 1:  Loss:          2.2143 Validation Accuracy: 0.2642\n",
      "Epoch  1, CIFAR-10 Batch 2:  Loss:          2.1099 Validation Accuracy: 0.3218\n",
      "Epoch  1, CIFAR-10 Batch 3:  Loss:          2.0982 Validation Accuracy: 0.3278\n",
      "Epoch  1, CIFAR-10 Batch 4:  Loss:          2.1832 Validation Accuracy: 0.3892\n",
      "Epoch  1, CIFAR-10 Batch 5:  Loss:          2.0980 Validation Accuracy: 0.3624\n",
      "Epoch  2, CIFAR-10 Batch 1:  Loss:          2.0974 Validation Accuracy: 0.4058\n",
      "Epoch  2, CIFAR-10 Batch 2:  Loss:          1.9976 Validation Accuracy: 0.4070\n",
      "Epoch  2, CIFAR-10 Batch 3:  Loss:          2.0467 Validation Accuracy: 0.3884\n",
      "Epoch  2, CIFAR-10 Batch 4:  Loss:          2.0630 Validation Accuracy: 0.4344\n",
      "Epoch  2, CIFAR-10 Batch 5:  Loss:          2.0385 Validation Accuracy: 0.4412\n",
      "Epoch  3, CIFAR-10 Batch 1:  Loss:          2.0708 Validation Accuracy: 0.4322\n",
      "Epoch  3, CIFAR-10 Batch 2:  Loss:          2.0639 Validation Accuracy: 0.4196\n",
      "Epoch  3, CIFAR-10 Batch 3:  Loss:          1.9767 Validation Accuracy: 0.4514\n",
      "Epoch  3, CIFAR-10 Batch 4:  Loss:          2.0645 Validation Accuracy: 0.4310\n",
      "Epoch  3, CIFAR-10 Batch 5:  Loss:          2.0180 Validation Accuracy: 0.4404\n",
      "Epoch  4, CIFAR-10 Batch 1:  Loss:          2.0424 Validation Accuracy: 0.4574\n",
      "Epoch  4, CIFAR-10 Batch 2:  Loss:          2.0237 Validation Accuracy: 0.4442\n",
      "Epoch  4, CIFAR-10 Batch 3:  Loss:          1.9142 Validation Accuracy: 0.4602\n",
      "Epoch  4, CIFAR-10 Batch 4:  Loss:          2.0456 Validation Accuracy: 0.4394\n",
      "Epoch  4, CIFAR-10 Batch 5:  Loss:          2.0008 Validation Accuracy: 0.4336\n",
      "Epoch  5, CIFAR-10 Batch 1:  Loss:          2.0487 Validation Accuracy: 0.4440\n",
      "Epoch  5, CIFAR-10 Batch 2:  Loss:          1.9499 Validation Accuracy: 0.4576\n",
      "Epoch  5, CIFAR-10 Batch 3:  Loss:          1.8558 Validation Accuracy: 0.4688\n",
      "Epoch  5, CIFAR-10 Batch 4:  Loss:          2.0214 Validation Accuracy: 0.4850\n",
      "Epoch  5, CIFAR-10 Batch 5:  Loss:          2.0170 Validation Accuracy: 0.4668\n",
      "Epoch  6, CIFAR-10 Batch 1:  Loss:          2.0320 Validation Accuracy: 0.4650\n",
      "Epoch  6, CIFAR-10 Batch 2:  Loss:          1.9329 Validation Accuracy: 0.4618\n",
      "Epoch  6, CIFAR-10 Batch 3:  Loss:          1.7994 Validation Accuracy: 0.4720\n",
      "Epoch  6, CIFAR-10 Batch 4:  Loss:          2.0036 Validation Accuracy: 0.4780\n",
      "Epoch  6, CIFAR-10 Batch 5:  Loss:          1.9282 Validation Accuracy: 0.4738\n",
      "Epoch  7, CIFAR-10 Batch 1:  Loss:          2.0180 Validation Accuracy: 0.4800\n",
      "Epoch  7, CIFAR-10 Batch 2:  Loss:          1.9771 Validation Accuracy: 0.4574\n",
      "Epoch  7, CIFAR-10 Batch 3:  Loss:          1.8457 Validation Accuracy: 0.4936\n",
      "Epoch  7, CIFAR-10 Batch 4:  Loss:          1.9577 Validation Accuracy: 0.4994\n",
      "Epoch  7, CIFAR-10 Batch 5:  Loss:          1.9536 Validation Accuracy: 0.4794\n",
      "Epoch  8, CIFAR-10 Batch 1:  Loss:          2.0097 Validation Accuracy: 0.4828\n",
      "Epoch  8, CIFAR-10 Batch 2:  Loss:          1.9838 Validation Accuracy: 0.4812\n",
      "Epoch  8, CIFAR-10 Batch 3:  Loss:          1.8473 Validation Accuracy: 0.4636\n",
      "Epoch  8, CIFAR-10 Batch 4:  Loss:          2.0033 Validation Accuracy: 0.4898\n",
      "Epoch  8, CIFAR-10 Batch 5:  Loss:          1.8915 Validation Accuracy: 0.5062\n",
      "Epoch  9, CIFAR-10 Batch 1:  Loss:          1.9570 Validation Accuracy: 0.5120\n",
      "Epoch  9, CIFAR-10 Batch 2:  Loss:          1.9260 Validation Accuracy: 0.5070\n",
      "Epoch  9, CIFAR-10 Batch 3:  Loss:          1.8041 Validation Accuracy: 0.4906\n",
      "Epoch  9, CIFAR-10 Batch 4:  Loss:          1.8794 Validation Accuracy: 0.5002\n",
      "Epoch  9, CIFAR-10 Batch 5:  Loss:          1.8929 Validation Accuracy: 0.5050\n",
      "Epoch 10, CIFAR-10 Batch 1:  Loss:          1.9285 Validation Accuracy: 0.4922\n",
      "Epoch 10, CIFAR-10 Batch 2:  Loss:          1.9319 Validation Accuracy: 0.5086\n",
      "Epoch 10, CIFAR-10 Batch 3:  Loss:          1.8366 Validation Accuracy: 0.4984\n",
      "Epoch 10, CIFAR-10 Batch 4:  Loss:          1.8913 Validation Accuracy: 0.5136\n",
      "Epoch 10, CIFAR-10 Batch 5:  Loss:          1.8270 Validation Accuracy: 0.5132\n",
      "Epoch 11, CIFAR-10 Batch 1:  Loss:          1.9933 Validation Accuracy: 0.4860\n",
      "Epoch 11, CIFAR-10 Batch 2:  Loss:          1.9440 Validation Accuracy: 0.5122\n",
      "Epoch 11, CIFAR-10 Batch 3:  Loss:          1.8250 Validation Accuracy: 0.5024\n",
      "Epoch 11, CIFAR-10 Batch 4:  Loss:          1.8584 Validation Accuracy: 0.5170\n",
      "Epoch 11, CIFAR-10 Batch 5:  Loss:          1.8727 Validation Accuracy: 0.5204\n",
      "Epoch 12, CIFAR-10 Batch 1:  Loss:          1.9514 Validation Accuracy: 0.5376\n",
      "Epoch 12, CIFAR-10 Batch 2:  Loss:          1.9472 Validation Accuracy: 0.5234\n",
      "Epoch 12, CIFAR-10 Batch 3:  Loss:          1.7759 Validation Accuracy: 0.5302\n",
      "Epoch 12, CIFAR-10 Batch 4:  Loss:          1.9059 Validation Accuracy: 0.5380\n",
      "Epoch 12, CIFAR-10 Batch 5:  Loss:          1.8627 Validation Accuracy: 0.5296\n",
      "Epoch 13, CIFAR-10 Batch 1:  Loss:          1.9260 Validation Accuracy: 0.5356\n",
      "Epoch 13, CIFAR-10 Batch 2:  Loss:          1.9045 Validation Accuracy: 0.5414\n",
      "Epoch 13, CIFAR-10 Batch 3:  Loss:          1.8163 Validation Accuracy: 0.5188\n",
      "Epoch 13, CIFAR-10 Batch 4:  Loss:          1.9019 Validation Accuracy: 0.5442\n",
      "Epoch 13, CIFAR-10 Batch 5:  Loss:          1.8850 Validation Accuracy: 0.5330\n",
      "Epoch 14, CIFAR-10 Batch 1:  Loss:          1.9430 Validation Accuracy: 0.5336\n",
      "Epoch 14, CIFAR-10 Batch 2:  Loss:          1.9071 Validation Accuracy: 0.5176\n",
      "Epoch 14, CIFAR-10 Batch 3:  Loss:          1.7465 Validation Accuracy: 0.5364\n",
      "Epoch 14, CIFAR-10 Batch 4:  Loss:          1.8253 Validation Accuracy: 0.5454\n",
      "Epoch 14, CIFAR-10 Batch 5:  Loss:          1.9224 Validation Accuracy: 0.5170\n",
      "Epoch 15, CIFAR-10 Batch 1:  Loss:          1.8916 Validation Accuracy: 0.5434\n",
      "Epoch 15, CIFAR-10 Batch 2:  Loss:          1.9066 Validation Accuracy: 0.5134\n",
      "Epoch 15, CIFAR-10 Batch 3:  Loss:          1.7780 Validation Accuracy: 0.5362\n",
      "Epoch 15, CIFAR-10 Batch 4:  Loss:          1.8104 Validation Accuracy: 0.5472\n",
      "Epoch 15, CIFAR-10 Batch 5:  Loss:          1.8892 Validation Accuracy: 0.5280\n",
      "Epoch 16, CIFAR-10 Batch 1:  Loss:          1.9727 Validation Accuracy: 0.5350\n",
      "Epoch 16, CIFAR-10 Batch 2:  Loss:          1.9902 Validation Accuracy: 0.5454\n",
      "Epoch 16, CIFAR-10 Batch 3:  Loss:          1.7657 Validation Accuracy: 0.5430\n",
      "Epoch 16, CIFAR-10 Batch 4:  Loss:          1.8558 Validation Accuracy: 0.5430\n",
      "Epoch 16, CIFAR-10 Batch 5:  Loss:          1.8101 Validation Accuracy: 0.5516\n",
      "Epoch 17, CIFAR-10 Batch 1:  Loss:          1.9435 Validation Accuracy: 0.5450\n",
      "Epoch 17, CIFAR-10 Batch 2:  Loss:          1.8737 Validation Accuracy: 0.5436\n",
      "Epoch 17, CIFAR-10 Batch 3:  Loss:          1.6922 Validation Accuracy: 0.5566\n",
      "Epoch 17, CIFAR-10 Batch 4:  Loss:          1.8663 Validation Accuracy: 0.5112\n",
      "Epoch 17, CIFAR-10 Batch 5:  Loss:          1.8228 Validation Accuracy: 0.5406\n",
      "Epoch 18, CIFAR-10 Batch 1:  Loss:          1.9315 Validation Accuracy: 0.5476\n",
      "Epoch 18, CIFAR-10 Batch 2:  Loss:          1.8541 Validation Accuracy: 0.5524\n",
      "Epoch 18, CIFAR-10 Batch 3:  Loss:          1.7620 Validation Accuracy: 0.5344\n",
      "Epoch 18, CIFAR-10 Batch 4:  Loss:          1.9045 Validation Accuracy: 0.5494\n",
      "Epoch 18, CIFAR-10 Batch 5:  Loss:          1.8335 Validation Accuracy: 0.5470\n",
      "Epoch 19, CIFAR-10 Batch 1:  Loss:          1.8454 Validation Accuracy: 0.5432\n",
      "Epoch 19, CIFAR-10 Batch 2:  Loss:          1.9051 Validation Accuracy: 0.5432\n",
      "Epoch 19, CIFAR-10 Batch 3:  Loss:          1.7132 Validation Accuracy: 0.5508\n",
      "Epoch 19, CIFAR-10 Batch 4:  Loss:          1.8468 Validation Accuracy: 0.5428\n",
      "Epoch 19, CIFAR-10 Batch 5:  Loss:          1.9257 Validation Accuracy: 0.5498\n",
      "Epoch 20, CIFAR-10 Batch 1:  Loss:          1.8845 Validation Accuracy: 0.5536\n",
      "Epoch 20, CIFAR-10 Batch 2:  Loss:          1.9369 Validation Accuracy: 0.5398\n",
      "Epoch 20, CIFAR-10 Batch 3:  Loss:          1.6913 Validation Accuracy: 0.5578\n",
      "Epoch 20, CIFAR-10 Batch 4:  Loss:          1.7976 Validation Accuracy: 0.5478\n",
      "Epoch 20, CIFAR-10 Batch 5:  Loss:          1.8500 Validation Accuracy: 0.5426\n",
      "Epoch 21, CIFAR-10 Batch 1:  Loss:          1.8862 Validation Accuracy: 0.5434\n",
      "Epoch 21, CIFAR-10 Batch 2:  Loss:          1.8186 Validation Accuracy: 0.5314\n",
      "Epoch 21, CIFAR-10 Batch 3:  Loss:          1.8101 Validation Accuracy: 0.5504\n",
      "Epoch 21, CIFAR-10 Batch 4:  Loss:          1.8273 Validation Accuracy: 0.5432\n",
      "Epoch 21, CIFAR-10 Batch 5:  Loss:          1.7950 Validation Accuracy: 0.5494\n",
      "Epoch 22, CIFAR-10 Batch 1:  Loss:          1.8787 Validation Accuracy: 0.5562\n",
      "Epoch 22, CIFAR-10 Batch 2:  Loss:          1.8545 Validation Accuracy: 0.5602\n",
      "Epoch 22, CIFAR-10 Batch 3:  Loss:          1.7873 Validation Accuracy: 0.5538\n",
      "Epoch 22, CIFAR-10 Batch 4:  Loss:          1.8338 Validation Accuracy: 0.5488\n",
      "Epoch 22, CIFAR-10 Batch 5:  Loss:          1.8191 Validation Accuracy: 0.5382\n",
      "Epoch 23, CIFAR-10 Batch 1:  Loss:          1.9415 Validation Accuracy: 0.5292\n",
      "Epoch 23, CIFAR-10 Batch 2:  Loss:          1.8277 Validation Accuracy: 0.5420\n",
      "Epoch 23, CIFAR-10 Batch 3:  Loss:          1.7340 Validation Accuracy: 0.5600\n",
      "Epoch 23, CIFAR-10 Batch 4:  Loss:          1.8328 Validation Accuracy: 0.5594\n",
      "Epoch 23, CIFAR-10 Batch 5:  Loss:          1.7590 Validation Accuracy: 0.5610\n",
      "Epoch 24, CIFAR-10 Batch 1:  Loss:          1.8540 Validation Accuracy: 0.5404\n",
      "Epoch 24, CIFAR-10 Batch 2:  Loss:          1.8061 Validation Accuracy: 0.5354\n",
      "Epoch 24, CIFAR-10 Batch 3:  Loss:          1.7326 Validation Accuracy: 0.5544\n",
      "Epoch 24, CIFAR-10 Batch 4:  Loss:          1.8479 Validation Accuracy: 0.5640\n",
      "Epoch 24, CIFAR-10 Batch 5:  Loss:          1.7724 Validation Accuracy: 0.5614\n",
      "Epoch 25, CIFAR-10 Batch 1:  Loss:          1.8439 Validation Accuracy: 0.5760\n",
      "Epoch 25, CIFAR-10 Batch 2:  Loss:          1.8264 Validation Accuracy: 0.5586\n",
      "Epoch 25, CIFAR-10 Batch 3:  Loss:          1.7375 Validation Accuracy: 0.5606\n",
      "Epoch 25, CIFAR-10 Batch 4:  Loss:          1.8682 Validation Accuracy: 0.5606\n",
      "Epoch 25, CIFAR-10 Batch 5:  Loss:          1.7756 Validation Accuracy: 0.5654\n",
      "Epoch 26, CIFAR-10 Batch 1:  Loss:          1.8595 Validation Accuracy: 0.5676\n",
      "Epoch 26, CIFAR-10 Batch 2:  Loss:          1.7444 Validation Accuracy: 0.5240\n",
      "Epoch 26, CIFAR-10 Batch 3:  Loss:          1.7190 Validation Accuracy: 0.5614\n",
      "Epoch 26, CIFAR-10 Batch 4:  Loss:          1.9047 Validation Accuracy: 0.5580\n",
      "Epoch 26, CIFAR-10 Batch 5:  Loss:          1.7074 Validation Accuracy: 0.5734\n",
      "Epoch 27, CIFAR-10 Batch 1:  Loss:          1.8806 Validation Accuracy: 0.5620\n",
      "Epoch 27, CIFAR-10 Batch 2:  Loss:          1.8294 Validation Accuracy: 0.5412\n",
      "Epoch 27, CIFAR-10 Batch 3:  Loss:          1.7594 Validation Accuracy: 0.5644\n",
      "Epoch 27, CIFAR-10 Batch 4:  Loss:          1.7994 Validation Accuracy: 0.5560\n",
      "Epoch 27, CIFAR-10 Batch 5:  Loss:          1.6905 Validation Accuracy: 0.5716\n",
      "Epoch 28, CIFAR-10 Batch 1:  Loss:          1.8344 Validation Accuracy: 0.5784\n",
      "Epoch 28, CIFAR-10 Batch 2:  Loss:          1.8138 Validation Accuracy: 0.5354\n",
      "Epoch 28, CIFAR-10 Batch 3:  Loss:          1.7710 Validation Accuracy: 0.5556\n",
      "Epoch 28, CIFAR-10 Batch 4:  Loss:          1.8078 Validation Accuracy: 0.5536\n",
      "Epoch 28, CIFAR-10 Batch 5:  Loss:          1.7344 Validation Accuracy: 0.5590\n",
      "Epoch 29, CIFAR-10 Batch 1:  Loss:          1.8457 Validation Accuracy: 0.5802\n",
      "Epoch 29, CIFAR-10 Batch 2:  Loss:          1.8094 Validation Accuracy: 0.5740\n",
      "Epoch 29, CIFAR-10 Batch 3:  Loss:          1.7630 Validation Accuracy: 0.5638\n",
      "Epoch 29, CIFAR-10 Batch 4:  Loss:          1.8410 Validation Accuracy: 0.5490\n",
      "Epoch 29, CIFAR-10 Batch 5:  Loss:          1.7324 Validation Accuracy: 0.5638\n",
      "Epoch 30, CIFAR-10 Batch 1:  Loss:          1.8516 Validation Accuracy: 0.5720\n",
      "Epoch 30, CIFAR-10 Batch 2:  Loss:          1.8356 Validation Accuracy: 0.5782\n",
      "Epoch 30, CIFAR-10 Batch 3:  Loss:          1.7392 Validation Accuracy: 0.5690\n",
      "Epoch 30, CIFAR-10 Batch 4:  Loss:          1.8345 Validation Accuracy: 0.5656\n",
      "Epoch 30, CIFAR-10 Batch 5:  Loss:          1.7795 Validation Accuracy: 0.5596\n",
      "Epoch 31, CIFAR-10 Batch 1:  Loss:          1.8694 Validation Accuracy: 0.5778\n",
      "Epoch 31, CIFAR-10 Batch 2:  Loss:          1.8829 Validation Accuracy: 0.5648\n",
      "Epoch 31, CIFAR-10 Batch 3:  Loss:          1.7159 Validation Accuracy: 0.5738\n",
      "Epoch 31, CIFAR-10 Batch 4:  Loss:          1.8151 Validation Accuracy: 0.5748\n",
      "Epoch 31, CIFAR-10 Batch 5:  Loss:          1.6798 Validation Accuracy: 0.5716\n",
      "Epoch 32, CIFAR-10 Batch 1:  Loss:          1.8659 Validation Accuracy: 0.5720\n",
      "Epoch 32, CIFAR-10 Batch 2:  Loss:          1.8035 Validation Accuracy: 0.5646\n",
      "Epoch 32, CIFAR-10 Batch 3:  Loss:          1.7893 Validation Accuracy: 0.5740\n",
      "Epoch 32, CIFAR-10 Batch 4:  Loss:          1.7729 Validation Accuracy: 0.5728\n",
      "Epoch 32, CIFAR-10 Batch 5:  Loss:          1.7680 Validation Accuracy: 0.5702\n",
      "Epoch 33, CIFAR-10 Batch 1:  Loss:          1.8199 Validation Accuracy: 0.5760\n",
      "Epoch 33, CIFAR-10 Batch 2:  Loss:          1.7998 Validation Accuracy: 0.5460\n",
      "Epoch 33, CIFAR-10 Batch 3:  Loss:          1.8150 Validation Accuracy: 0.5724\n",
      "Epoch 33, CIFAR-10 Batch 4:  Loss:          1.7515 Validation Accuracy: 0.5548\n",
      "Epoch 33, CIFAR-10 Batch 5:  Loss:          1.7726 Validation Accuracy: 0.5714\n",
      "Epoch 34, CIFAR-10 Batch 1:  Loss:          1.8365 Validation Accuracy: 0.5756\n",
      "Epoch 34, CIFAR-10 Batch 2:  Loss:          1.8115 Validation Accuracy: 0.5342\n",
      "Epoch 34, CIFAR-10 Batch 3:  Loss:          1.7383 Validation Accuracy: 0.5740\n",
      "Epoch 34, CIFAR-10 Batch 4:  Loss:          1.7961 Validation Accuracy: 0.5576\n",
      "Epoch 34, CIFAR-10 Batch 5:  Loss:          1.6870 Validation Accuracy: 0.5752\n",
      "Epoch 35, CIFAR-10 Batch 1:  Loss:          1.8203 Validation Accuracy: 0.5762\n",
      "Epoch 35, CIFAR-10 Batch 2:  Loss:          1.8082 Validation Accuracy: 0.5768\n",
      "Epoch 35, CIFAR-10 Batch 3:  Loss:          1.7532 Validation Accuracy: 0.5630\n",
      "Epoch 35, CIFAR-10 Batch 4:  Loss:          1.8144 Validation Accuracy: 0.5718\n",
      "Epoch 35, CIFAR-10 Batch 5:  Loss:          1.7149 Validation Accuracy: 0.5680\n",
      "Epoch 36, CIFAR-10 Batch 1:  Loss:          1.8503 Validation Accuracy: 0.5864\n",
      "Epoch 36, CIFAR-10 Batch 2:  Loss:          1.8491 Validation Accuracy: 0.5642\n",
      "Epoch 36, CIFAR-10 Batch 3:  Loss:          1.6748 Validation Accuracy: 0.5848\n",
      "Epoch 36, CIFAR-10 Batch 4:  Loss:          1.7554 Validation Accuracy: 0.5750\n",
      "Epoch 36, CIFAR-10 Batch 5:  Loss:          1.7316 Validation Accuracy: 0.5820\n",
      "Epoch 37, CIFAR-10 Batch 1:  Loss:          1.8812 Validation Accuracy: 0.5828\n",
      "Epoch 37, CIFAR-10 Batch 2:  Loss:          1.8642 Validation Accuracy: 0.5558\n",
      "Epoch 37, CIFAR-10 Batch 3:  Loss:          1.7480 Validation Accuracy: 0.5816\n",
      "Epoch 37, CIFAR-10 Batch 4:  Loss:          1.7145 Validation Accuracy: 0.5822\n",
      "Epoch 37, CIFAR-10 Batch 5:  Loss:          1.7013 Validation Accuracy: 0.5758\n",
      "Epoch 38, CIFAR-10 Batch 1:  Loss:          1.8592 Validation Accuracy: 0.5726\n",
      "Epoch 38, CIFAR-10 Batch 2:  Loss:          1.7837 Validation Accuracy: 0.5698\n",
      "Epoch 38, CIFAR-10 Batch 3:  Loss:          1.7384 Validation Accuracy: 0.5880\n",
      "Epoch 38, CIFAR-10 Batch 4:  Loss:          1.7674 Validation Accuracy: 0.5918\n",
      "Epoch 38, CIFAR-10 Batch 5:  Loss:          1.6925 Validation Accuracy: 0.5856\n",
      "Epoch 39, CIFAR-10 Batch 1:  Loss:          1.8731 Validation Accuracy: 0.5732\n",
      "Epoch 39, CIFAR-10 Batch 2:  Loss:          1.7574 Validation Accuracy: 0.5908\n",
      "Epoch 39, CIFAR-10 Batch 3:  Loss:          1.7248 Validation Accuracy: 0.5830\n",
      "Epoch 39, CIFAR-10 Batch 4:  Loss:          1.7742 Validation Accuracy: 0.5816\n",
      "Epoch 39, CIFAR-10 Batch 5:  Loss:          1.7005 Validation Accuracy: 0.5886\n",
      "Epoch 40, CIFAR-10 Batch 1:  Loss:          1.8121 Validation Accuracy: 0.5832\n",
      "Epoch 40, CIFAR-10 Batch 2:  Loss:          1.7839 Validation Accuracy: 0.5774\n",
      "Epoch 40, CIFAR-10 Batch 3:  Loss:          1.7128 Validation Accuracy: 0.5918\n",
      "Epoch 40, CIFAR-10 Batch 4:  Loss:          1.6831 Validation Accuracy: 0.5906\n",
      "Epoch 40, CIFAR-10 Batch 5:  Loss:          1.7176 Validation Accuracy: 0.5902\n"
     ]
    }
   ],
   "source": [
    "\"\"\"\n",
    "DON'T MODIFY ANYTHING IN THIS CELL\n",
    "\"\"\"\n",
    "save_model_path = './image_classification'\n",
    "\n",
    "print('Training...')\n",
    "with tf.Session() as sess:\n",
    "    # Initializing the variables\n",
    "    sess.run(tf.global_variables_initializer())\n",
    "    \n",
    "    # Training cycle\n",
    "    for epoch in range(epochs):\n",
    "        # Loop over all batches\n",
    "        n_batches = 5\n",
    "        for batch_i in range(1, n_batches + 1):\n",
    "            for batch_features, batch_labels in helper.load_preprocess_training_batch(batch_i, batch_size):\n",
    "                train_neural_network(sess, optimizer, keep_probability, batch_features, batch_labels)\n",
    "            print('Epoch {:>2}, CIFAR-10 Batch {}:  '.format(epoch + 1, batch_i), end='')\n",
    "            print_stats(sess, batch_features, batch_labels, cost, accuracy)\n",
    "            \n",
    "    # Save Model\n",
    "    saver = tf.train.Saver()\n",
    "    save_path = saver.save(sess, save_model_path)"
   ]
  },
  {
   "cell_type": "markdown",
   "metadata": {
    "deletable": true,
    "editable": true
   },
   "source": [
    "# Checkpoint\n",
    "The model has been saved to disk.\n",
    "## Test Model\n",
    "Test your model against the test dataset.  This will be your final accuracy. You should have an accuracy greater than 50%. If you don't, keep tweaking the model architecture and parameters."
   ]
  },
  {
   "cell_type": "code",
   "execution_count": 23,
   "metadata": {
    "collapsed": false,
    "deletable": true,
    "editable": true
   },
   "outputs": [
    {
     "name": "stdout",
     "output_type": "stream",
     "text": [
      "Testing Accuracy: 0.586629746835443\n",
      "\n"
     ]
    },
    {
     "data": {
      "image/png": "[encoded data removed]",
      "text/plain": [
       "<matplotlib.figure.Figure at 0x2490b3f1c88>"
      ]
     },
     "metadata": {
      "image/png": {
       "height": 319,
       "width": 355
      }
     },
     "output_type": "display_data"
    }
   ],
   "source": [
    "\"\"\"\n",
    "DON'T MODIFY ANYTHING IN THIS CELL\n",
    "\"\"\"\n",
    "%matplotlib inline\n",
    "%config InlineBackend.figure_format = 'retina'\n",
    "\n",
    "import tensorflow as tf\n",
    "import pickle\n",
    "import helper\n",
    "import random\n",
    "\n",
    "# Set batch size if not already set\n",
    "try:\n",
    "    if batch_size:\n",
    "        pass\n",
    "except NameError:\n",
    "    batch_size = 64\n",
    "\n",
    "save_model_path = './image_classification'\n",
    "n_samples = 4\n",
    "top_n_predictions = 3\n",
    "\n",
    "def test_model():\n",
    "    \"\"\"\n",
    "    Test the saved model against the test dataset\n",
    "    \"\"\"\n",
    "\n",
    "    test_features, test_labels = pickle.load(open('preprocess_training.p', mode='rb'))\n",
    "    loaded_graph = tf.Graph()\n",
    "\n",
    "    with tf.Session(graph=loaded_graph) as sess:\n",
    "        # Load model\n",
    "        loader = tf.train.import_meta_graph(save_model_path + '.meta')\n",
    "        loader.restore(sess, save_model_path)\n",
    "\n",
    "        # Get Tensors from loaded model\n",
    "        loaded_x = loaded_graph.get_tensor_by_name('x:0')\n",
    "        loaded_y = loaded_graph.get_tensor_by_name('y:0')\n",
    "        loaded_keep_prob = loaded_graph.get_tensor_by_name('keep_prob:0')\n",
    "        loaded_logits = loaded_graph.get_tensor_by_name('logits:0')\n",
    "        loaded_acc = loaded_graph.get_tensor_by_name('accuracy:0')\n",
    "        \n",
    "        # Get accuracy in batches for memory limitations\n",
    "        test_batch_acc_total = 0\n",
    "        test_batch_count = 0\n",
    "        \n",
    "        for train_feature_batch, train_label_batch in helper.batch_features_labels(test_features, test_labels, batch_size):\n",
    "            test_batch_acc_total += sess.run(\n",
    "                loaded_acc,\n",
    "                feed_dict={loaded_x: train_feature_batch, loaded_y: train_label_batch, loaded_keep_prob: 1.0})\n",
    "            test_batch_count += 1\n",
    "\n",
    "        print('Testing Accuracy: {}\\n'.format(test_batch_acc_total/test_batch_count))\n",
    "\n",
    "        # Print Random Samples\n",
    "        random_test_features, random_test_labels = tuple(zip(*random.sample(list(zip(test_features, test_labels)), n_samples)))\n",
    "        random_test_predictions = sess.run(\n",
    "            tf.nn.top_k(tf.nn.softmax(loaded_logits), top_n_predictions),\n",
    "            feed_dict={loaded_x: random_test_features, loaded_y: random_test_labels, loaded_keep_prob: 1.0})\n",
    "        helper.display_image_predictions(random_test_features, random_test_labels, random_test_predictions)\n",
    "\n",
    "\n",
    "test_model()"
   ]
  },
  {
   "cell_type": "markdown",
   "metadata": {
    "deletable": true,
    "editable": true
   },
   "source": [
    "## Why 50-70% Accuracy?\n",
    "You might be wondering why you can't get an accuracy any higher. First things first, 50% isn't bad for a simple CNN.  Pure guessing would get you 10% accuracy. However, you might notice people are getting scores [well above 70%](http://rodrigob.github.io/are_we_there_yet/build/classification_datasets_results.html#43494641522d3130).  That's because we haven't taught you all there is to know about neural networks. We still need to cover a few more techniques.\n",
    "## Submitting This Project\n",
    "When submitting this project, make sure to run all the cells before saving the notebook.  Save the notebook file as \"dlnd_image_classification.ipynb\" and save it as a HTML file under \"File\" -> \"Download as\".  Include the \"helper.py\" and \"problem_unittests.py\" files in your submission."
   ]
  }
 ],
 "metadata": {
  "kernelspec": {
   "display_name": "Python 3",
   "language": "python",
   "name": "python3"
  },
  "language_info": {
   "codemirror_mode": {
    "name": "ipython",
    "version": 3
   },
   "file_extension": ".py",
   "mimetype": "text/x-python",
   "name": "python",
   "nbconvert_exporter": "python",
   "pygments_lexer": "ipython3",
   "version": "3.5.3"
  }
 },
 "nbformat": 4,
 "nbformat_minor": 0
}
